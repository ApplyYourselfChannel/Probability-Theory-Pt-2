{
 "cells": [
  {
   "cell_type": "markdown",
   "id": "938223a1-4366-493d-b210-3c0852e751eb",
   "metadata": {},
   "source": [
    "# Probability Intuition Pt. 2"
   ]
  },
  {
   "cell_type": "code",
   "execution_count": 1,
   "id": "43656e72-79a2-4b89-a866-4e64c520135b",
   "metadata": {},
   "outputs": [],
   "source": [
    "import pandas as pd"
   ]
  },
  {
   "cell_type": "code",
   "execution_count": 2,
   "id": "5012f9a9-98ae-4f5c-ac8e-d4a4c9b1448f",
   "metadata": {},
   "outputs": [],
   "source": [
    "# synthetic dataset simulating dice combinations and frequencies\n",
    "dice_df = pd.read_csv('dice.csv')"
   ]
  },
  {
   "cell_type": "code",
   "execution_count": 3,
   "id": "494a6c53-b543-4132-a5ab-79513e76f25d",
   "metadata": {},
   "outputs": [
    {
     "data": {
      "text/html": [
       "<div>\n",
       "<style scoped>\n",
       "    .dataframe tbody tr th:only-of-type {\n",
       "        vertical-align: middle;\n",
       "    }\n",
       "\n",
       "    .dataframe tbody tr th {\n",
       "        vertical-align: top;\n",
       "    }\n",
       "\n",
       "    .dataframe thead th {\n",
       "        text-align: right;\n",
       "    }\n",
       "</style>\n",
       "<table border=\"1\" class=\"dataframe\">\n",
       "  <thead>\n",
       "    <tr style=\"text-align: right;\">\n",
       "      <th></th>\n",
       "      <th>dice_1</th>\n",
       "      <th>dice_2</th>\n",
       "    </tr>\n",
       "  </thead>\n",
       "  <tbody>\n",
       "    <tr>\n",
       "      <th>0</th>\n",
       "      <td>1</td>\n",
       "      <td>1</td>\n",
       "    </tr>\n",
       "    <tr>\n",
       "      <th>1</th>\n",
       "      <td>1</td>\n",
       "      <td>2</td>\n",
       "    </tr>\n",
       "    <tr>\n",
       "      <th>2</th>\n",
       "      <td>1</td>\n",
       "      <td>3</td>\n",
       "    </tr>\n",
       "    <tr>\n",
       "      <th>3</th>\n",
       "      <td>1</td>\n",
       "      <td>4</td>\n",
       "    </tr>\n",
       "    <tr>\n",
       "      <th>4</th>\n",
       "      <td>1</td>\n",
       "      <td>5</td>\n",
       "    </tr>\n",
       "  </tbody>\n",
       "</table>\n",
       "</div>"
      ],
      "text/plain": [
       "   dice_1  dice_2\n",
       "0       1       1\n",
       "1       1       2\n",
       "2       1       3\n",
       "3       1       4\n",
       "4       1       5"
      ]
     },
     "execution_count": 3,
     "metadata": {},
     "output_type": "execute_result"
    }
   ],
   "source": [
    "dice_df.head()"
   ]
  },
  {
   "cell_type": "markdown",
   "id": "f2f47beb-9fa8-43bb-a2b9-f377e19a879d",
   "metadata": {},
   "source": [
    "## Probabilities of Rolling Two Dice"
   ]
  },
  {
   "cell_type": "code",
   "execution_count": 4,
   "id": "8b337ad3-6452-488c-991f-10ae839b2cb2",
   "metadata": {},
   "outputs": [
    {
     "data": {
      "text/plain": [
       "0.027777777777777776"
      ]
     },
     "execution_count": 4,
     "metadata": {},
     "output_type": "execute_result"
    }
   ],
   "source": [
    "# probability of rolling a 1 with dice 1 and another 1 with dice 2\n",
    "desired_outcomes = len(dice_df[(dice_df['dice_1']==1) & (dice_df['dice_2']==1)])\n",
    "possible_outcomes = len(dice_df) # 36 - total number of combinations from rolling 2 dice\n",
    "\n",
    "# probability\n",
    "desired_outcome / possible_outcomes"
   ]
  },
  {
   "cell_type": "markdown",
   "id": "9208c414-c663-48eb-aadb-16e616ad010f",
   "metadata": {},
   "source": [
    "There is a 2.7% of rolling a '1' with dice 1 and another '1' with dice 2 *(if both dice are fair)*."
   ]
  },
  {
   "cell_type": "code",
   "execution_count": 5,
   "id": "cd3ec928-f35f-45c2-bda6-2c93f7a94a92",
   "metadata": {},
   "outputs": [
    {
     "data": {
      "text/plain": [
       "0.25"
      ]
     },
     "execution_count": 5,
     "metadata": {},
     "output_type": "execute_result"
    }
   ],
   "source": [
    "# probability of rolling an even number for each dice\n",
    "desired_outcomes = len(dice_df[(dice_df['dice_1']%2==0) & (dice_df['dice_2']%2==0)])\n",
    "possible_outcomes = len(dice_df) # 36\n",
    "\n",
    "# probability\n",
    "desired_outcome / possible_outcomes"
   ]
  },
  {
   "cell_type": "markdown",
   "id": "ac2bfb1c-e6dc-48ed-9ebc-2c8a2453938c",
   "metadata": {},
   "source": [
    "We have a 25% chance of rolling an even number with both dice *(if both dice are fair)*."
   ]
  },
  {
   "cell_type": "code",
   "execution_count": 6,
   "id": "8ec2a6d8-6045-4b85-be28-82cd75b8c8eb",
   "metadata": {},
   "outputs": [
    {
     "data": {
      "text/plain": [
       "0.08333333333333333"
      ]
     },
     "execution_count": 6,
     "metadata": {},
     "output_type": "execute_result"
    }
   ],
   "source": [
    "# desired outcome - rolling a 1 with dice 1 and an odd number with dice 2\n",
    "desired_outcomes = len(dice_df[(dice_df['dice_1']==1) & (dice_df['dice_2']%2!=0)])\n",
    "# possible outcome - all the possible dice combinations\n",
    "possible_outcomes = len(dice_df)\n",
    "\n",
    "# probability\n",
    "desired_outcome / possible_outcomes"
   ]
  },
  {
   "cell_type": "markdown",
   "id": "dacea82f-abc1-4016-bb09-3d56de44194f",
   "metadata": {},
   "source": [
    "There is an 8.333% chance of rolling a '1' with dice 1 and an odd number with dice 2 *(if both dice are fair)*."
   ]
  },
  {
   "cell_type": "code",
   "execution_count": 7,
   "id": "ed3bd5e5-984a-4629-b4b6-de5fe772337b",
   "metadata": {},
   "outputs": [
    {
     "data": {
      "text/plain": [
       "0.16666666666666666"
      ]
     },
     "execution_count": 7,
     "metadata": {},
     "output_type": "execute_result"
    }
   ],
   "source": [
    "# desired outcome - rolling a 2 with dice 1 regardless of the outcome of dice 2\n",
    "desired_outcome = len(dice_df[dice_df['dice_1']==2])\n",
    "# possible outcomes - all the possible dice combinations\n",
    "possible_outcomes = len(dice_df)\n",
    "\n",
    "# probability\n",
    "desired_outcome / possible_outcomes"
   ]
  },
  {
   "cell_type": "markdown",
   "id": "ee42a848-e111-40b8-a27f-c11d623cb9d4",
   "metadata": {},
   "source": [
    "There is a 16.66% chance if rolling a '2' with dice 1 regardless of the outcomes from dice 2 *(if both dice are fair)*."
   ]
  }
 ],
 "metadata": {
  "kernelspec": {
   "display_name": "Python 3 (ipykernel)",
   "language": "python",
   "name": "python3"
  },
  "language_info": {
   "codemirror_mode": {
    "name": "ipython",
    "version": 3
   },
   "file_extension": ".py",
   "mimetype": "text/x-python",
   "name": "python",
   "nbconvert_exporter": "python",
   "pygments_lexer": "ipython3",
   "version": "3.9.7"
  }
 },
 "nbformat": 4,
 "nbformat_minor": 5
}
